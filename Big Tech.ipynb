{
 "cells": [
  {
   "cell_type": "code",
   "execution_count": 19,
   "id": "be5a90fe",
   "metadata": {},
   "outputs": [],
   "source": [
    "# Install the package\n",
    "import numpy as np\n",
    "from sympy import *\n",
    "from scipy.optimize import fsolve\n"
   ]
  },
  {
   "cell_type": "code",
   "execution_count": 20,
   "id": "4a6ddd63",
   "metadata": {},
   "outputs": [],
   "source": [
    "var('z')\n",
    "\n",
    "grid = .001\n",
    "nobs = int(1/grid)+1"
   ]
  },
  {
   "cell_type": "code",
   "execution_count": 21,
   "id": "23992f97",
   "metadata": {},
   "outputs": [],
   "source": [
    "# fixed exogenous parameters\n",
    "successes = 10\n",
    "pbar = .49\n",
    "pi_m = 200 \n",
    "theta_m = 0\n",
    "xibar = .005\n",
    "alphabar = .05\n",
    "beta = .8\n",
    "eta = 10000\n",
    "epsilon = .6"
   ]
  },
  {
   "cell_type": "code",
   "execution_count": 28,
   "id": "3438285e",
   "metadata": {},
   "outputs": [
    {
     "name": "stdout",
     "output_type": "stream",
     "text": [
      "xbar:  0.001\n",
      "sigma:  2.666666666666667\n",
      "gamma:  18375.000000000033\n",
      "mu_m:  100.0\n",
      "pi_c:  200.99999999999997\n",
      "mu_c:  100.49999999999999\n"
     ]
    }
   ],
   "source": [
    "# derived values\n",
    "xbar = successes / eta\n",
    "sigma = 1 + 1/epsilon\n",
    "gamma = pbar/sigma/xbar**(sigma-1)\n",
    "mu_m = pi_m/2\n",
    "pi_c = pi_m*(1+xibar)\n",
    "mu_c = pi_c/2\n",
    "print('xbar: ',xbar)\n",
    "print('sigma: ',sigma)\n",
    "print('gamma: ',gamma)\n",
    "print('mu_m: ',mu_m)\n",
    "print('pi_c: ',pi_c)\n",
    "print('mu_c: ',mu_c)"
   ]
  },
  {
   "cell_type": "code",
   "execution_count": 27,
   "id": "6814fcbc",
   "metadata": {},
   "outputs": [
    {
     "data": {
      "text/plain": [
       "0.09779483275875955"
      ]
     },
     "execution_count": 27,
     "metadata": {},
     "output_type": "execute_result"
    }
   ],
   "source": [
    "#begin psibar\n",
    "pi_s_0 = pi_m*( 1 + 2/9*z*( z*(1-exp(-3./z)) - 3) )\n",
    "theta_s_0 = pi_m*( 2*z/9 + exp(-3./z)/18* ( 9*z**2 + 32*z + 60 ) )\n",
    "p0 = (1-beta)*( (1-alphabar)*(pi_c-pi_m) +alphabar*(pi_m-pi_s_0 ) ) \\\n",
    "    + beta*( (1-alphabar)*theta_m + alphabar*theta_s_0 )\n",
    "psibar = fsolve(lambdify(z,p0-pbar),1)[0]\n",
    "psibar"
   ]
  },
  {
   "cell_type": "code",
   "execution_count": 24,
   "id": "e693f0b4",
   "metadata": {},
   "outputs": [
    {
     "name": "stdout",
     "output_type": "stream",
     "text": [
      "pi_s:  187.385748046135\n",
      "theta_s:  4.34643701153384\n",
      "mu_s:  106.732185057569\n"
     ]
    }
   ],
   "source": [
    "#end psibar\n",
    "pi_s = pi_m*( 1 + 2/9*psibar*( psibar*(1-exp(-3./psibar)) - 3) )\n",
    "theta_s = pi_m*( 2*psibar/9 + exp(-3./psibar)/18* ( 9*psibar**2 + 32*psibar + 60 ) )\n",
    "mu_s = pi_m*(1/2 + psibar/9*(3+psibar) + exp(-3/psibar)*psibar*(5*psibar + 12)/36)\n",
    "#print the outcome\n",
    "print('pi_s: ',pi_s)\n",
    "print('theta_s: ',theta_s)\n",
    "print('mu_s: ',mu_s)"
   ]
  },
  {
   "cell_type": "code",
   "execution_count": 26,
   "id": "6fe73fe7",
   "metadata": {},
   "outputs": [
    {
     "data": {
      "text/plain": [
       "0.06913539905573864"
      ]
     },
     "execution_count": 26,
     "metadata": {},
     "output_type": "execute_result"
    }
   ],
   "source": [
    "#begin alpha_h\n",
    "p = (1-beta)*( (1-z)*(pi_c-pi_m) +z*(pi_m-pi_s) ) \\\n",
    "    + beta*( (1-z)*theta_m + z*theta_s )\n",
    "prize = p\n",
    "x0 = (prize/gamma/sigma)**(1/(sigma-1))\n",
    "w0 = z*mu_m + (1-z)*mu_c\n",
    "a0 = (1-x0)*mu_m + x0*w0 - mu_m\n",
    "prize = z*theta_s+(1-z)*theta_m\n",
    "x1 = (prize/gamma/sigma)**(1/(sigma-1))\n",
    "w1 = z*mu_s + (1-z)*mu_m\n",
    "a1 = (1-x1)*mu_m + x1*w1 - mu_m \n",
    "alpha_h = float( (mu_c-mu_m) / ( (mu_c-mu_m) + (mu_s-mu_m) ) )\n",
    "alpha_h "
   ]
  },
  {
   "cell_type": "code",
   "execution_count": 29,
   "id": "6bd17feb",
   "metadata": {},
   "outputs": [],
   "source": [
    "alpha_p = .5\n",
    "f1=open('basecase.tex', 'w+')\n",
    "f2=open('analysis.csv', 'w+')\n",
    "print('alpha,x0,w0,a0,x1,w1,a1',file=f2)"
   ]
  },
  {
   "cell_type": "code",
   "execution_count": 30,
   "id": "55008bb4",
   "metadata": {},
   "outputs": [],
   "source": [
    "v_n = v_h = v_p = v_o = v_t = 0\n",
    "x_n = x_h = x_p = x_o = x_t = 0\n",
    "c_n = c_h = c_p = c_o = c_t = 0\n",
    "oa_n = oa_h = oa_p = oa_o = oa_t = 0\n",
    "aa0 = np.zeros(nobs)\n",
    "aa1 = np.zeros(nobs)\n",
    "flag = test = 0\n",
    "alphastar = 0"
   ]
  },
  {
   "cell_type": "code",
   "execution_count": 31,
   "id": "2add6fd5",
   "metadata": {},
   "outputs": [],
   "source": [
    "for i in range(0,nobs):\n",
    "    alpha = i*grid\n",
    "    dens = np.exp(-alpha/alphabar)/alphabar*grid\n",
    "    test += dens\n",
    "    gain_inc = (1-alpha)*(pi_c-pi_m) +alpha*(pi_m-pi_s)\n",
    "    gain_sta = (1-alpha)*theta_m + alpha*theta_s\n",
    "    p = (1-beta)*( (1-alpha)*(pi_c-pi_m) +alpha*(pi_m-pi_s) ) \\\n",
    "        + beta*( (1-alpha)*theta_m + alpha*theta_s )\n",
    "    prize0 = p\n",
    "    prize1 = alpha*theta_s+(1-alpha)*theta_m\n",
    "    x0 = (prize0/gamma/sigma)**(1/(sigma-1))\n",
    "    x1 = (prize1/gamma/sigma)**(1/(sigma-1))\n",
    "    w0 = alpha*mu_m + (1-alpha)*mu_c\n",
    "    w1 = alpha*mu_s + (1-alpha)*mu_m\n",
    "    a0 = (1-x0)*mu_m + x0*w0 - mu_m\n",
    "    a1 = (1-x1)*mu_m + x1*w1 - mu_m\n",
    "    aa0[i] = a0*dens\n",
    "    aa1[i] = a1*dens\n",
    "    v_n += a0*dens\n",
    "    x_n += x0*dens\n",
    "    oa_n += x0*alpha*dens\n",
    "    v_t += a1*dens\n",
    "    x_t += x1*dens\n",
    "    oa_t += x1*alpha*dens\n",
    "    c_t += x1*alpha*dens"
   ]
  },
  {
   "cell_type": "code",
   "execution_count": 34,
   "id": "df7bf029",
   "metadata": {},
   "outputs": [],
   "source": [
    "# set up the merger policy\n",
    "    if alpha>alpha_h:\n",
    "        v_h += a1*dens\n",
    "        x_h += x1*dens\n",
    "        oa_h += x1*alpha*dens\n",
    "        c_h += x1*alpha*dens\n",
    "    else:\n",
    "        v_h += a0*dens\n",
    "        x_h += x0*dens\n",
    "        oa_h += x0*alpha*dens\n",
    "    if alpha>alpha_p:\n",
    "        v_p += a1*dens\n",
    "        x_p += x1*dens\n",
    "        oa_p += x1*alpha*dens\n",
    "        c_p += x1*alpha*dens\n",
    "    else:\n",
    "        v_p += a0*dens\n",
    "        x_p += x0*dens\n",
    "        oa_p += x0*alpha*dens\n",
    "    if a1>a0:\n",
    "        v_o += a1*dens\n",
    "        x_o += x1*dens\n",
    "        oa_o += x1*alpha*dens\n",
    "        c_o += x1*alpha*dens\n",
    "        if flag==0:\n",
    "            alphastar = alpha\n",
    "            flag=1\n",
    "    else:\n",
    "        v_o += a0*dens\n",
    "        x_o += x0*dens\n",
    "        oa_o += x0*alpha*dens\n"
   ]
  },
  {
   "cell_type": "code",
   "execution_count": 35,
   "id": "d579c776",
   "metadata": {},
   "outputs": [],
   "source": [
    " print(('%.5f,'*6+'%.5f') % (alpha,x0*100,(w0-100)*1000,a0*1000000,x1*100,(w1-100)*1000,a1*1000000),file=f2)"
   ]
  },
  {
   "cell_type": "code",
   "execution_count": 36,
   "id": "b4381aeb",
   "metadata": {},
   "outputs": [
    {
     "name": "stdout",
     "output_type": "stream",
     "text": [
      "1.010033331070502 1.0\n",
      "\n",
      "0.06913539905573864 1.0\n",
      "\n"
     ]
    }
   ],
   "source": [
    "print(test,alpha)\n",
    "print()\n",
    "print(alpha_h,alphastar)\n",
    "print()\n",
    "mult1 = 1000000\n",
    "mult2 = 100\n",
    "mult3 = 10000\n",
    "print('Welfare per startup (\\$000)',file=f1)\n",
    "print('& %.3f '*5 % (v_n*mult1, v_h*mult1, v_p*mult1, v_o*mult1, v_t*mult1),sep=',',end='\\n',file=f1)\n",
    "print(' \\snl',file=f1)\n",
    "print('Blocked mergers (\\%)',file=f1)\n",
    "print('& %.3f '*5 % (0*mult2, np.exp(-alpha_h/alphabar)*mult2, np.exp(-.5/alphabar)*mult2, np.exp(-alphastar/alphabar)*mult2, 1*mult2),sep=',',end='\\n',file=f1)\n",
    "print(' \\snl',file=f1)\n",
    "print('\\# successful startups',file=f1)\n",
    "print('& %.3f '*5 % (x_n*mult3, x_h*mult3, x_p*mult3, x_o*mult3, x_t*mult3),sep=',',end='\\n',file=f1)\n",
    "print(' \\snl',file=f1)\n",
    "print('$\\E(\\\\alpha)$ successful startups (\\%)',file=f1)\n",
    "print('& %.3f '*5 % (oa_n/x_n*mult2, oa_h/x_h*mult2, oa_p/x_p*mult2, oa_o/x_o*mult2, oa_t/x_t*mult2),sep=',',end='\\n',file=f1)\n",
    "print(' \\snl',file=f1)\n",
    "print('\\# competitors',file=f1)\n",
    "print('& %.5f '*5 % (c_n*mult3, c_h*mult3, c_p*mult3, c_o*mult3, c_t*mult3),sep=',',end='\\n',file=f1)\n",
    "f1.close()\n",
    "f2.close()"
   ]
  },
  {
   "cell_type": "code",
   "execution_count": 37,
   "id": "b485470c",
   "metadata": {},
   "outputs": [],
   "source": [
    "f1=open('alpha0.csv', 'w+')\n",
    "print('alpha,v',file=f1)\n",
    "v = np.zeros(nobs)\n",
    "for i in range(0,nobs):\n",
    "    for k in range(0,i):\n",
    "        v[i] += aa0[k]\n",
    "    for k in range(i,nobs):\n",
    "        v[i] += aa1[k]\n",
    "for i in range(0,nobs):\n",
    "    alpha = i*grid\n",
    "    print(alpha,v[i]*1000,sep=',',end='\\n',file=f1)\n",
    "f1.close()"
   ]
  }
 ],
 "metadata": {
  "kernelspec": {
   "display_name": "Python 3 (ipykernel)",
   "language": "python",
   "name": "python3"
  },
  "language_info": {
   "codemirror_mode": {
    "name": "ipython",
    "version": 3
   },
   "file_extension": ".py",
   "mimetype": "text/x-python",
   "name": "python",
   "nbconvert_exporter": "python",
   "pygments_lexer": "ipython3",
   "version": "3.8.15"
  }
 },
 "nbformat": 4,
 "nbformat_minor": 5
}
